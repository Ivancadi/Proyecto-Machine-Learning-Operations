{
 "cells": [
  {
   "attachments": {},
   "cell_type": "markdown",
   "metadata": {},
   "source": [
    "# PROYECTO INDIVIDUAL N°1 - Machine Learning Operations (MLOps)"
   ]
  },
  {
   "attachments": {},
   "cell_type": "markdown",
   "metadata": {},
   "source": [
    "# *Parte 1 - Data Engineer*\n"
   ]
  },
  {
   "cell_type": "code",
   "execution_count": 4,
   "metadata": {},
   "outputs": [],
   "source": [
    "# Importacion de librerias a utilizar\n",
    "import pandas as pd"
   ]
  },
  {
   "cell_type": "code",
   "execution_count": 5,
   "metadata": {},
   "outputs": [],
   "source": [
    "# Ingestamos los datos de las plataformas de streaming  \n",
    "df_amazon = pd.read_csv(r'C:\\Users\\PERSONAL\\Desktop\\Data scince\\HENRY\\HENRY - Data scince\\LABS 1\\MLOpsReviews\\Datos Streaming\\amazon_prime_titles.csv')\n",
    "df_disney = pd.read_csv(r'C:\\Users\\PERSONAL\\Desktop\\Data scince\\HENRY\\HENRY - Data scince\\LABS 1\\MLOpsReviews\\Datos Streaming\\disney_plus_titles.csv')\n",
    "df_hulu = pd.read_csv(r'C:\\Users\\PERSONAL\\Desktop\\Data scince\\HENRY\\HENRY - Data scince\\LABS 1\\MLOpsReviews\\Datos Streaming\\hulu_titles.csv')\n",
    "df_netflix = pd.read_csv(r'C:\\Users\\PERSONAL\\Desktop\\Data scince\\HENRY\\HENRY - Data scince\\LABS 1\\MLOpsReviews\\Datos Streaming\\netflix_titles.csv')"
   ]
  },
  {
   "cell_type": "code",
   "execution_count": 6,
   "metadata": {},
   "outputs": [],
   "source": [
    "# Ingestamos los datos de ratings\n",
    "df_rating_1= pd.read_csv(r'C:\\Users\\PERSONAL\\Desktop\\Data scince\\HENRY\\HENRY - Data scince\\LABS 1\\MLOpsReviews\\Datos Ratings\\1.csv')\n",
    "df_rating_2= pd.read_csv(r'C:\\Users\\PERSONAL\\Desktop\\Data scince\\HENRY\\HENRY - Data scince\\LABS 1\\MLOpsReviews\\Datos Ratings\\2.csv')\n",
    "df_rating_3= pd.read_csv(r'C:\\Users\\PERSONAL\\Desktop\\Data scince\\HENRY\\HENRY - Data scince\\LABS 1\\MLOpsReviews\\Datos Ratings\\3.csv')\n",
    "df_rating_4= pd.read_csv(r'C:\\Users\\PERSONAL\\Desktop\\Data scince\\HENRY\\HENRY - Data scince\\LABS 1\\MLOpsReviews\\Datos Ratings\\4.csv')\n",
    "df_rating_5= pd.read_csv(r'C:\\Users\\PERSONAL\\Desktop\\Data scince\\HENRY\\HENRY - Data scince\\LABS 1\\MLOpsReviews\\Datos Ratings\\5.csv')\n",
    "df_rating_6= pd.read_csv(r'C:\\Users\\PERSONAL\\Desktop\\Data scince\\HENRY\\HENRY - Data scince\\LABS 1\\MLOpsReviews\\Datos Ratings\\6.csv')\n",
    "df_rating_7= pd.read_csv(r'C:\\Users\\PERSONAL\\Desktop\\Data scince\\HENRY\\HENRY - Data scince\\LABS 1\\MLOpsReviews\\Datos Ratings\\7.csv')\n",
    "df_rating_8= pd.read_csv(r'C:\\Users\\PERSONAL\\Desktop\\Data scince\\HENRY\\HENRY - Data scince\\LABS 1\\MLOpsReviews\\Datos Ratings\\8.csv')"
   ]
  },
  {
   "attachments": {},
   "cell_type": "markdown",
   "metadata": {},
   "source": [
    "### _Análisis Exploratorio De Los Datos_"
   ]
  },
  {
   "cell_type": "code",
   "execution_count": 7,
   "metadata": {},
   "outputs": [
    {
     "name": "stdout",
     "output_type": "stream",
     "text": [
      "<class 'pandas.core.frame.DataFrame'>\n",
      "RangeIndex: 9668 entries, 0 to 9667\n",
      "Data columns (total 12 columns):\n",
      " #   Column        Non-Null Count  Dtype \n",
      "---  ------        --------------  ----- \n",
      " 0   show_id       9668 non-null   object\n",
      " 1   type          9668 non-null   object\n",
      " 2   title         9668 non-null   object\n",
      " 3   director      7586 non-null   object\n",
      " 4   cast          8435 non-null   object\n",
      " 5   country       672 non-null    object\n",
      " 6   date_added    155 non-null    object\n",
      " 7   release_year  9668 non-null   int64 \n",
      " 8   rating        9331 non-null   object\n",
      " 9   duration      9668 non-null   object\n",
      " 10  listed_in     9668 non-null   object\n",
      " 11  description   9668 non-null   object\n",
      "dtypes: int64(1), object(11)\n",
      "memory usage: 906.5+ KB\n",
      "<class 'pandas.core.frame.DataFrame'>\n",
      "RangeIndex: 1450 entries, 0 to 1449\n",
      "Data columns (total 12 columns):\n",
      " #   Column        Non-Null Count  Dtype \n",
      "---  ------        --------------  ----- \n",
      " 0   show_id       1450 non-null   object\n",
      " 1   type          1450 non-null   object\n",
      " 2   title         1450 non-null   object\n",
      " 3   director      977 non-null    object\n",
      " 4   cast          1260 non-null   object\n",
      " 5   country       1231 non-null   object\n",
      " 6   date_added    1447 non-null   object\n",
      " 7   release_year  1450 non-null   int64 \n",
      " 8   rating        1447 non-null   object\n",
      " 9   duration      1450 non-null   object\n",
      " 10  listed_in     1450 non-null   object\n",
      " 11  description   1450 non-null   object\n",
      "dtypes: int64(1), object(11)\n",
      "memory usage: 136.1+ KB\n",
      "<class 'pandas.core.frame.DataFrame'>\n",
      "RangeIndex: 3073 entries, 0 to 3072\n",
      "Data columns (total 12 columns):\n",
      " #   Column        Non-Null Count  Dtype  \n",
      "---  ------        --------------  -----  \n",
      " 0   show_id       3073 non-null   object \n",
      " 1   type          3073 non-null   object \n",
      " 2   title         3073 non-null   object \n",
      " 3   director      3 non-null      object \n",
      " 4   cast          0 non-null      float64\n",
      " 5   country       1620 non-null   object \n",
      " 6   date_added    3045 non-null   object \n",
      " 7   release_year  3073 non-null   int64  \n",
      " 8   rating        2553 non-null   object \n",
      " 9   duration      2594 non-null   object \n",
      " 10  listed_in     3073 non-null   object \n",
      " 11  description   3069 non-null   object \n",
      "dtypes: float64(1), int64(1), object(10)\n",
      "memory usage: 288.2+ KB\n",
      "<class 'pandas.core.frame.DataFrame'>\n",
      "RangeIndex: 8807 entries, 0 to 8806\n",
      "Data columns (total 12 columns):\n",
      " #   Column        Non-Null Count  Dtype \n",
      "---  ------        --------------  ----- \n",
      " 0   show_id       8807 non-null   object\n",
      " 1   type          8807 non-null   object\n",
      " 2   title         8807 non-null   object\n",
      " 3   director      6173 non-null   object\n",
      " 4   cast          7982 non-null   object\n",
      " 5   country       7976 non-null   object\n",
      " 6   date_added    8797 non-null   object\n",
      " 7   release_year  8807 non-null   int64 \n",
      " 8   rating        8803 non-null   object\n",
      " 9   duration      8804 non-null   object\n",
      " 10  listed_in     8807 non-null   object\n",
      " 11  description   8807 non-null   object\n",
      "dtypes: int64(1), object(11)\n",
      "memory usage: 825.8+ KB\n"
     ]
    }
   ],
   "source": [
    "# Verificamos los tipos de datos de las columnas de cada dataframe streaming para una posterior concatenacion de estos \n",
    "# Como a su vez ver si hay valores nulos\n",
    "df_amazon.info()\n",
    "df_disney.info()\n",
    "df_hulu.info()\n",
    "df_netflix.info()"
   ]
  },
  {
   "attachments": {},
   "cell_type": "markdown",
   "metadata": {},
   "source": [
    "### _Transformación De Los Datos_"
   ]
  },
  {
   "cell_type": "code",
   "execution_count": 8,
   "metadata": {},
   "outputs": [
    {
     "name": "stdout",
     "output_type": "stream",
     "text": [
      "<class 'pandas.core.frame.DataFrame'>\n",
      "RangeIndex: 3073 entries, 0 to 3072\n",
      "Data columns (total 12 columns):\n",
      " #   Column        Non-Null Count  Dtype \n",
      "---  ------        --------------  ----- \n",
      " 0   show_id       3073 non-null   object\n",
      " 1   type          3073 non-null   object\n",
      " 2   title         3073 non-null   object\n",
      " 3   director      3 non-null      object\n",
      " 4   cast          0 non-null      object\n",
      " 5   country       1620 non-null   object\n",
      " 6   date_added    3045 non-null   object\n",
      " 7   release_year  3073 non-null   int64 \n",
      " 8   rating        2553 non-null   object\n",
      " 9   duration      2594 non-null   object\n",
      " 10  listed_in     3073 non-null   object\n",
      " 11  description   3069 non-null   object\n",
      "dtypes: int64(1), object(11)\n",
      "memory usage: 288.2+ KB\n"
     ]
    }
   ],
   "source": [
    "# Encontramos que el tipo de dato de la columna 'cast' de 'df_hulu' era distinto de los demas archivos, por esto \n",
    "# se procede a pasarla al tipo de datos de las demas, en este caso a tipo object\n",
    "df_hulu['cast'] = df_hulu['cast'].astype(object)\n",
    "df_hulu.info()"
   ]
  },
  {
   "cell_type": "code",
   "execution_count": 9,
   "metadata": {},
   "outputs": [],
   "source": [
    "# Agregamos un id a los dataframe de streaming, el cual es generado por la primera letra de la plataforma + la columna show_id\n",
    "df_amazon['id'] = 'a' + df_amazon['show_id']\n",
    "df_disney['id'] = 'd' + df_disney['show_id']\n",
    "df_hulu['id'] = 'h' + df_hulu['show_id']\n",
    "df_netflix['id'] = 'n' + df_netflix['show_id']\n"
   ]
  },
  {
   "cell_type": "code",
   "execution_count": 10,
   "metadata": {},
   "outputs": [
    {
     "data": {
      "text/html": [
       "<div>\n",
       "<style scoped>\n",
       "    .dataframe tbody tr th:only-of-type {\n",
       "        vertical-align: middle;\n",
       "    }\n",
       "\n",
       "    .dataframe tbody tr th {\n",
       "        vertical-align: top;\n",
       "    }\n",
       "\n",
       "    .dataframe thead th {\n",
       "        text-align: right;\n",
       "    }\n",
       "</style>\n",
       "<table border=\"1\" class=\"dataframe\">\n",
       "  <thead>\n",
       "    <tr style=\"text-align: right;\">\n",
       "      <th></th>\n",
       "      <th>show_id</th>\n",
       "      <th>type</th>\n",
       "      <th>title</th>\n",
       "      <th>director</th>\n",
       "      <th>cast</th>\n",
       "      <th>country</th>\n",
       "      <th>date_added</th>\n",
       "      <th>release_year</th>\n",
       "      <th>rating</th>\n",
       "      <th>duration</th>\n",
       "      <th>listed_in</th>\n",
       "      <th>description</th>\n",
       "      <th>id</th>\n",
       "    </tr>\n",
       "  </thead>\n",
       "  <tbody>\n",
       "    <tr>\n",
       "      <th>0</th>\n",
       "      <td>s1</td>\n",
       "      <td>Movie</td>\n",
       "      <td>The Grand Seduction</td>\n",
       "      <td>Don McKellar</td>\n",
       "      <td>Brendan Gleeson, Taylor Kitsch, Gordon Pinsent</td>\n",
       "      <td>Canada</td>\n",
       "      <td>March 30, 2021</td>\n",
       "      <td>2014</td>\n",
       "      <td>NaN</td>\n",
       "      <td>113 min</td>\n",
       "      <td>Comedy, Drama</td>\n",
       "      <td>A small fishing village must procure a local d...</td>\n",
       "      <td>as1</td>\n",
       "    </tr>\n",
       "    <tr>\n",
       "      <th>1</th>\n",
       "      <td>s2</td>\n",
       "      <td>Movie</td>\n",
       "      <td>Take Care Good Night</td>\n",
       "      <td>Girish Joshi</td>\n",
       "      <td>Mahesh Manjrekar, Abhay Mahajan, Sachin Khedekar</td>\n",
       "      <td>India</td>\n",
       "      <td>March 30, 2021</td>\n",
       "      <td>2018</td>\n",
       "      <td>13+</td>\n",
       "      <td>110 min</td>\n",
       "      <td>Drama, International</td>\n",
       "      <td>A Metro Family decides to fight a Cyber Crimin...</td>\n",
       "      <td>as2</td>\n",
       "    </tr>\n",
       "    <tr>\n",
       "      <th>2</th>\n",
       "      <td>s3</td>\n",
       "      <td>Movie</td>\n",
       "      <td>Secrets of Deception</td>\n",
       "      <td>Josh Webber</td>\n",
       "      <td>Tom Sizemore, Lorenzo Lamas, Robert LaSardo, R...</td>\n",
       "      <td>United States</td>\n",
       "      <td>March 30, 2021</td>\n",
       "      <td>2017</td>\n",
       "      <td>NaN</td>\n",
       "      <td>74 min</td>\n",
       "      <td>Action, Drama, Suspense</td>\n",
       "      <td>After a man discovers his wife is cheating on ...</td>\n",
       "      <td>as3</td>\n",
       "    </tr>\n",
       "    <tr>\n",
       "      <th>3</th>\n",
       "      <td>s4</td>\n",
       "      <td>Movie</td>\n",
       "      <td>Pink: Staying True</td>\n",
       "      <td>Sonia Anderson</td>\n",
       "      <td>Interviews with: Pink, Adele, Beyoncé, Britney...</td>\n",
       "      <td>United States</td>\n",
       "      <td>March 30, 2021</td>\n",
       "      <td>2014</td>\n",
       "      <td>NaN</td>\n",
       "      <td>69 min</td>\n",
       "      <td>Documentary</td>\n",
       "      <td>Pink breaks the mold once again, bringing her ...</td>\n",
       "      <td>as4</td>\n",
       "    </tr>\n",
       "    <tr>\n",
       "      <th>4</th>\n",
       "      <td>s5</td>\n",
       "      <td>Movie</td>\n",
       "      <td>Monster Maker</td>\n",
       "      <td>Giles Foster</td>\n",
       "      <td>Harry Dean Stanton, Kieran O'Brien, George Cos...</td>\n",
       "      <td>United Kingdom</td>\n",
       "      <td>March 30, 2021</td>\n",
       "      <td>1989</td>\n",
       "      <td>NaN</td>\n",
       "      <td>45 min</td>\n",
       "      <td>Drama, Fantasy</td>\n",
       "      <td>Teenage Matt Banting wants to work with a famo...</td>\n",
       "      <td>as5</td>\n",
       "    </tr>\n",
       "  </tbody>\n",
       "</table>\n",
       "</div>"
      ],
      "text/plain": [
       "  show_id   type                 title        director  \\\n",
       "0      s1  Movie   The Grand Seduction    Don McKellar   \n",
       "1      s2  Movie  Take Care Good Night    Girish Joshi   \n",
       "2      s3  Movie  Secrets of Deception     Josh Webber   \n",
       "3      s4  Movie    Pink: Staying True  Sonia Anderson   \n",
       "4      s5  Movie         Monster Maker    Giles Foster   \n",
       "\n",
       "                                                cast         country  \\\n",
       "0     Brendan Gleeson, Taylor Kitsch, Gordon Pinsent          Canada   \n",
       "1   Mahesh Manjrekar, Abhay Mahajan, Sachin Khedekar           India   \n",
       "2  Tom Sizemore, Lorenzo Lamas, Robert LaSardo, R...   United States   \n",
       "3  Interviews with: Pink, Adele, Beyoncé, Britney...   United States   \n",
       "4  Harry Dean Stanton, Kieran O'Brien, George Cos...  United Kingdom   \n",
       "\n",
       "       date_added  release_year rating duration                listed_in  \\\n",
       "0  March 30, 2021          2014    NaN  113 min            Comedy, Drama   \n",
       "1  March 30, 2021          2018    13+  110 min     Drama, International   \n",
       "2  March 30, 2021          2017    NaN   74 min  Action, Drama, Suspense   \n",
       "3  March 30, 2021          2014    NaN   69 min              Documentary   \n",
       "4  March 30, 2021          1989    NaN   45 min           Drama, Fantasy   \n",
       "\n",
       "                                         description   id  \n",
       "0  A small fishing village must procure a local d...  as1  \n",
       "1  A Metro Family decides to fight a Cyber Crimin...  as2  \n",
       "2  After a man discovers his wife is cheating on ...  as3  \n",
       "3  Pink breaks the mold once again, bringing her ...  as4  \n",
       "4  Teenage Matt Banting wants to work with a famo...  as5  "
      ]
     },
     "execution_count": 10,
     "metadata": {},
     "output_type": "execute_result"
    }
   ],
   "source": [
    "# Concatenamos los dataframe de streaming para trabajar con uno solo, el cual llamaremos df_general\n",
    "df_general = pd.concat([df_amazon, df_netflix, df_disney, df_hulu], axis=0)\n",
    "df_general.head()"
   ]
  },
  {
   "cell_type": "code",
   "execution_count": 11,
   "metadata": {},
   "outputs": [],
   "source": [
    "# Concatenamos los df de ratings para trabajar con uno solo, el cual llamaremos df_rating\n",
    "df_rating = pd.concat([df_rating_1, df_rating_2, df_rating_3, df_rating_4, df_rating_5, df_rating_6, df_rating_7,\n",
    "                       df_rating_8], axis=0)"
   ]
  },
  {
   "cell_type": "code",
   "execution_count": 12,
   "metadata": {},
   "outputs": [
    {
     "data": {
      "text/plain": [
       "show_id          9668\n",
       "type                2\n",
       "title           22115\n",
       "director        10106\n",
       "cast            16748\n",
       "country           886\n",
       "date_added       2058\n",
       "release_year      101\n",
       "rating            105\n",
       "duration          253\n",
       "listed_in        1687\n",
       "description     22670\n",
       "id              22998\n",
       "dtype: int64"
      ]
     },
     "execution_count": 12,
     "metadata": {},
     "output_type": "execute_result"
    }
   ],
   "source": [
    "# Verificamos que los valores del id creado sean unicos\n",
    "df_general.nunique()"
   ]
  },
  {
   "cell_type": "code",
   "execution_count": 13,
   "metadata": {},
   "outputs": [],
   "source": [
    "# Reemplazamos los valores nulos de la columna rating por G\n",
    "df_general['rating'].fillna('G', inplace=True)"
   ]
  },
  {
   "cell_type": "code",
   "execution_count": 14,
   "metadata": {},
   "outputs": [],
   "source": [
    "# Cambiamos el formato de fecha de la columna date_added, primero cambiamos el tipo de dato de la columna a datetime y\n",
    "# posteriormente cambiamos al formato año/mes/dia\n",
    "df_general['date_added'] = pd.to_datetime(df_general['date_added'])\n",
    "df_general['date_added'] = df_general['date_added'].dt.strftime('%Y-%m-%d')"
   ]
  },
  {
   "cell_type": "code",
   "execution_count": 15,
   "metadata": {},
   "outputs": [],
   "source": [
    "# Pasamos a minusculas todas las columnas que contengan texto\n",
    "for i in df_general.columns:\n",
    "    if df_general[i].dtype == object:\n",
    "        df_general[i] = df_general[i].str.lower()\n",
    "        "
   ]
  },
  {
   "cell_type": "code",
   "execution_count": 16,
   "metadata": {},
   "outputs": [],
   "source": [
    "# Combertimos el campo duration en dos, uno duration_int y duration_type\n",
    "# Pero primero spliteamos la columna duration\n",
    "duration = df_general['duration'].str.split(pat= \" \", expand= True)\n",
    "\n",
    "# Luego renombramos las columnas del df optenido\n",
    "duration = duration.rename(columns={0:'duration_int', 1: 'duration_type'})\n",
    "\n",
    "# Concatenamos para que quede en el general las dos columnas nuevas\n",
    "df_general = pd.concat([df_general, duration], axis=1)"
   ]
  },
  {
   "cell_type": "code",
   "execution_count": 17,
   "metadata": {},
   "outputs": [
    {
     "data": {
      "text/plain": [
       "show_id              0\n",
       "type                 0\n",
       "title                0\n",
       "director          8259\n",
       "cast              5321\n",
       "country          11499\n",
       "date_added        9554\n",
       "release_year         0\n",
       "rating               0\n",
       "duration           482\n",
       "listed_in            0\n",
       "description          4\n",
       "id                   0\n",
       "duration_int       482\n",
       "duration_type      482\n",
       "dtype: int64"
      ]
     },
     "execution_count": 17,
     "metadata": {},
     "output_type": "execute_result"
    }
   ],
   "source": [
    "# Vemos la cantidad de valores nulos por columna, en este caso nos interesa duration_int\n",
    "df_general.isnull().sum()"
   ]
  },
  {
   "cell_type": "code",
   "execution_count": 18,
   "metadata": {},
   "outputs": [],
   "source": [
    "# Pasamos el tipo de dato de la columna duration_int a integer, pero primero hay que hacer algo con los nulos\n",
    "# En este caso se decide reemplazar los nulos con cero, para no perder los 482 registros que son nulos \n",
    "df_general['duration_int'].fillna(0, inplace=True)\n",
    "\n",
    "# Se combierte el tipo de dato de la columna duration_int a integer\n",
    "df_general['duration_int'] = df_general['duration_int'].astype(int)"
   ]
  },
  {
   "cell_type": "code",
   "execution_count": 19,
   "metadata": {},
   "outputs": [
    {
     "data": {
      "image/png": "[encoded data removed]",
      "text/plain": [
       "<Figure size 640x480 with 1 Axes>"
      ]
     },
     "metadata": {},
     "output_type": "display_data"
    }
   ],
   "source": [
    "# Verificamos cuantos tipos de duracion hay por medio de graficos\n",
    "import seaborn as sns\n",
    "import matplotlib.pyplot as plt\n",
    "\n",
    "sns.countplot(x=df_general['duration_type'], data=df_general)\n",
    "plt.show()"
   ]
  },
  {
   "cell_type": "code",
   "execution_count": 20,
   "metadata": {},
   "outputs": [],
   "source": [
    "# Se observa que hay 3, pero realmente son dos ya que esta season y seasons\n",
    "# Por esto se procede a dejar estos dos tipos como uno solo \n",
    "df_general['duration_type'] = df_general['duration_type'].replace('seasons', 'season')"
   ]
  },
  {
   "cell_type": "code",
   "execution_count": 21,
   "metadata": {},
   "outputs": [
    {
     "data": {
      "image/png": "[encoded data removed]",
      "text/plain": [
       "<Figure size 640x480 with 1 Axes>"
      ]
     },
     "metadata": {},
     "output_type": "display_data"
    }
   ],
   "source": [
    "# Rectificamos el cambio\n",
    "sns.countplot(x=df_general['duration_type'], data=df_general)\n",
    "plt.show()"
   ]
  },
  {
   "cell_type": "code",
   "execution_count": 22,
   "metadata": {},
   "outputs": [],
   "source": [
    "# Creamos un nuevo campo el cual tendra los nombres de las plataformas, valor que será util para el proyecto\n",
    "def optener_plataforma(valor):\n",
    "\n",
    "    ''' Esta funcion retorna el nombre de la plataforma respecto a la primera \n",
    "        letra del parametro que se le pase'''\n",
    "\n",
    "    if valor.startswith('a'):\n",
    "        return 'amazon'\n",
    "    elif valor.startswith('d'):\n",
    "        return 'disney'\n",
    "    elif valor.startswith('h'):\n",
    "        return 'hulu'\n",
    "    elif valor.startswith('n'):\n",
    "        return 'netflix'\n",
    "    else:\n",
    "        return 'otro'\n",
    "\n",
    "# Creamos la columna plataforma    \n",
    "df_general['plataforma'] = df_general['id'].apply(optener_plataforma)"
   ]
  },
  {
   "cell_type": "code",
   "execution_count": 23,
   "metadata": {},
   "outputs": [],
   "source": [
    "# Se eliminan las cololumnas que se consideran redundantes, en este caso show_id y duration ya que estas fueron\n",
    "# utilizadas para crear otras columnas con las que si se va a trabjar mas adelante\n",
    "df_general = df_general.drop(columns=['show_id', 'duration'])\n",
    "\n",
    "# Aqui se reordenan las columnas id pasando a la primera posicion y duration_int, duration_type en la poscicion que\n",
    "# que estaba la columna duration\n",
    "# Esto se hace para el performance \n",
    "df_general =df_general.reindex(columns=['id', 'plataforma', 'type', 'title', 'director', 'cast', 'country', \n",
    "                                        'date_added',  'release_year', 'rating', 'duration_int', 'duration_type', \n",
    "                                        'listed_in', 'description'])"
   ]
  },
  {
   "cell_type": "code",
   "execution_count": 24,
   "metadata": {},
   "outputs": [],
   "source": [
    "# Para el df_rating agrupamos por la columna movieId por su media, esto con el fin de poder unir mas adelante este df\n",
    "# con el df_general (el de streaming)\n",
    "df_rating = round(df_rating.groupby('movieId').mean(), 1)\n",
    "df_rating = df_rating.reset_index()"
   ]
  },
  {
   "cell_type": "code",
   "execution_count": 25,
   "metadata": {},
   "outputs": [],
   "source": [
    "# Hacemos un merge al df_general con el df_rating por medio de la columnas en comun (id del df_general y movieId del df_rating)\n",
    "df_general = pd.merge(df_general,df_rating, left_on='id', right_on='movieId')"
   ]
  },
  {
   "cell_type": "code",
   "execution_count": 26,
   "metadata": {},
   "outputs": [],
   "source": [
    "# Cambiamos el nombre de la columna rating_y por scored\n",
    "df_general = df_general.rename(columns={'rating_y': 'scored'})"
   ]
  },
  {
   "cell_type": "code",
   "execution_count": 27,
   "metadata": {},
   "outputs": [],
   "source": [
    "# Eliminamos la columna movieId ya que es redundante con respecto a la columna id\n",
    "df_general = df_general.drop(columns=['movieId'])"
   ]
  },
  {
   "cell_type": "code",
   "execution_count": 28,
   "metadata": {},
   "outputs": [],
   "source": [
    "# Exportamos el fichero en formato csv ya transformado\n",
    "df_general.to_csv('datos_streaming_transformados.csv', index=False)"
   ]
  }
 ],
 "metadata": {
  "kernelspec": {
   "display_name": "Python 3",
   "language": "python",
   "name": "python3"
  },
  "language_info": {
   "codemirror_mode": {
    "name": "ipython",
    "version": 3
   },
   "file_extension": ".py",
   "mimetype": "text/x-python",
   "name": "python",
   "nbconvert_exporter": "python",
   "pygments_lexer": "ipython3",
   "version": "3.11.0"
  },
  "orig_nbformat": 4
 },
 "nbformat": 4,
 "nbformat_minor": 2
}
