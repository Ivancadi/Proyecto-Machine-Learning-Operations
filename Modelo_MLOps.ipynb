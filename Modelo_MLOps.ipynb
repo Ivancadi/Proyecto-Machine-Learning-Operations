{
 "cells": [
  {
   "attachments": {},
   "cell_type": "markdown",
   "metadata": {},
   "source": [
    "# PROYECTO INDIVIDUAL N°1 - Machine Learning Operations (MLOps)"
   ]
  },
  {
   "attachments": {},
   "cell_type": "markdown",
   "metadata": {},
   "source": [
    "# *Parte 2 - MLOps*"
   ]
  },
  {
   "cell_type": "code",
   "execution_count": 1,
   "metadata": {},
   "outputs": [],
   "source": [
    "# Importamos la libreria pandas\n",
    "import pandas as pd"
   ]
  },
  {
   "cell_type": "code",
   "execution_count": 2,
   "metadata": {},
   "outputs": [
    {
     "data": {
      "text/html": [
       "<div>\n",
       "<style scoped>\n",
       "    .dataframe tbody tr th:only-of-type {\n",
       "        vertical-align: middle;\n",
       "    }\n",
       "\n",
       "    .dataframe tbody tr th {\n",
       "        vertical-align: top;\n",
       "    }\n",
       "\n",
       "    .dataframe thead th {\n",
       "        text-align: right;\n",
       "    }\n",
       "</style>\n",
       "<table border=\"1\" class=\"dataframe\">\n",
       "  <thead>\n",
       "    <tr style=\"text-align: right;\">\n",
       "      <th></th>\n",
       "      <th>id</th>\n",
       "      <th>plataforma</th>\n",
       "      <th>type</th>\n",
       "      <th>title</th>\n",
       "      <th>director</th>\n",
       "      <th>cast</th>\n",
       "      <th>country</th>\n",
       "      <th>date_added</th>\n",
       "      <th>release_year</th>\n",
       "      <th>rating_x</th>\n",
       "      <th>duration_int</th>\n",
       "      <th>duration_type</th>\n",
       "      <th>listed_in</th>\n",
       "      <th>description</th>\n",
       "      <th>userId</th>\n",
       "      <th>scored</th>\n",
       "      <th>timestamp</th>\n",
       "    </tr>\n",
       "  </thead>\n",
       "  <tbody>\n",
       "    <tr>\n",
       "      <th>0</th>\n",
       "      <td>as1</td>\n",
       "      <td>amazon</td>\n",
       "      <td>movie</td>\n",
       "      <td>the grand seduction</td>\n",
       "      <td>don mckellar</td>\n",
       "      <td>brendan gleeson, taylor kitsch, gordon pinsent</td>\n",
       "      <td>canada</td>\n",
       "      <td>2021-03-30</td>\n",
       "      <td>2014</td>\n",
       "      <td>g</td>\n",
       "      <td>113</td>\n",
       "      <td>min</td>\n",
       "      <td>comedy, drama</td>\n",
       "      <td>a small fishing village must procure a local d...</td>\n",
       "      <td>99178.6</td>\n",
       "      <td>3.5</td>\n",
       "      <td>1.173241e+09</td>\n",
       "    </tr>\n",
       "    <tr>\n",
       "      <th>1</th>\n",
       "      <td>as2</td>\n",
       "      <td>amazon</td>\n",
       "      <td>movie</td>\n",
       "      <td>take care good night</td>\n",
       "      <td>girish joshi</td>\n",
       "      <td>mahesh manjrekar, abhay mahajan, sachin khedekar</td>\n",
       "      <td>india</td>\n",
       "      <td>2021-03-30</td>\n",
       "      <td>2018</td>\n",
       "      <td>13+</td>\n",
       "      <td>110</td>\n",
       "      <td>min</td>\n",
       "      <td>drama, international</td>\n",
       "      <td>a metro family decides to fight a cyber crimin...</td>\n",
       "      <td>93837.5</td>\n",
       "      <td>3.5</td>\n",
       "      <td>1.168607e+09</td>\n",
       "    </tr>\n",
       "    <tr>\n",
       "      <th>2</th>\n",
       "      <td>as3</td>\n",
       "      <td>amazon</td>\n",
       "      <td>movie</td>\n",
       "      <td>secrets of deception</td>\n",
       "      <td>josh webber</td>\n",
       "      <td>tom sizemore, lorenzo lamas, robert lasardo, r...</td>\n",
       "      <td>united states</td>\n",
       "      <td>2021-03-30</td>\n",
       "      <td>2017</td>\n",
       "      <td>g</td>\n",
       "      <td>74</td>\n",
       "      <td>min</td>\n",
       "      <td>action, drama, suspense</td>\n",
       "      <td>after a man discovers his wife is cheating on ...</td>\n",
       "      <td>84095.3</td>\n",
       "      <td>3.5</td>\n",
       "      <td>1.176941e+09</td>\n",
       "    </tr>\n",
       "  </tbody>\n",
       "</table>\n",
       "</div>"
      ],
      "text/plain": [
       "    id plataforma   type                 title      director   \n",
       "0  as1     amazon  movie   the grand seduction  don mckellar  \\\n",
       "1  as2     amazon  movie  take care good night  girish joshi   \n",
       "2  as3     amazon  movie  secrets of deception   josh webber   \n",
       "\n",
       "                                                cast        country   \n",
       "0     brendan gleeson, taylor kitsch, gordon pinsent         canada  \\\n",
       "1   mahesh manjrekar, abhay mahajan, sachin khedekar          india   \n",
       "2  tom sizemore, lorenzo lamas, robert lasardo, r...  united states   \n",
       "\n",
       "   date_added  release_year rating_x  duration_int duration_type   \n",
       "0  2021-03-30          2014        g           113           min  \\\n",
       "1  2021-03-30          2018      13+           110           min   \n",
       "2  2021-03-30          2017        g            74           min   \n",
       "\n",
       "                 listed_in                                        description   \n",
       "0            comedy, drama  a small fishing village must procure a local d...  \\\n",
       "1     drama, international  a metro family decides to fight a cyber crimin...   \n",
       "2  action, drama, suspense  after a man discovers his wife is cheating on ...   \n",
       "\n",
       "    userId  scored     timestamp  \n",
       "0  99178.6     3.5  1.173241e+09  \n",
       "1  93837.5     3.5  1.168607e+09  \n",
       "2  84095.3     3.5  1.176941e+09  "
      ]
     },
     "execution_count": 2,
     "metadata": {},
     "output_type": "execute_result"
    }
   ],
   "source": [
    "# Cargamos los datos transformados de la parte 1 (Data Engineer)\n",
    "df = pd.read_csv('datos_streaming_transformados.csv')\n",
    "df.head(3)"
   ]
  },
  {
   "attachments": {},
   "cell_type": "markdown",
   "metadata": {},
   "source": [
    "### _Análisis Exploratorio De Los Datos_"
   ]
  },
  {
   "cell_type": "code",
   "execution_count": 3,
   "metadata": {},
   "outputs": [
    {
     "name": "stdout",
     "output_type": "stream",
     "text": [
      "Tipos de datos:\n",
      "id                object\n",
      "plataforma        object\n",
      "type              object\n",
      "title             object\n",
      "director          object\n",
      "cast              object\n",
      "country           object\n",
      "date_added        object\n",
      "release_year       int64\n",
      "rating_x          object\n",
      "duration_int       int64\n",
      "duration_type     object\n",
      "listed_in         object\n",
      "description       object\n",
      "userId           float64\n",
      "scored           float64\n",
      "timestamp        float64\n",
      "dtype: object\n",
      "-----------------------------------------------------------------------------\n",
      "Cantidad de valores faltantes:\n",
      "id                   0\n",
      "plataforma           0\n",
      "type                 0\n",
      "title                0\n",
      "director          8259\n",
      "cast              5321\n",
      "country          11499\n",
      "date_added        9554\n",
      "release_year         0\n",
      "rating_x             0\n",
      "duration_int         0\n",
      "duration_type      482\n",
      "listed_in            0\n",
      "description          4\n",
      "userId               0\n",
      "scored               0\n",
      "timestamp            0\n",
      "dtype: int64\n",
      "-----------------------------------------------------------------------------\n",
      "Cantidad de valores duplicados:\n",
      "0\n",
      "-----------------------------------------------------------------------------\n",
      "Resumen estadistico:\n",
      "       release_year  duration_int         userId        scored     timestamp\n",
      "count  22998.000000  22998.000000   22998.000000  22998.000000  2.299800e+04\n",
      "mean    2010.811244     65.710584   89970.854822      3.533286  1.172545e+09\n",
      "std       15.401142     51.760868    3958.849175      0.056929  9.351886e+06\n",
      "min     1920.000000      0.000000   71957.100000      3.300000  1.132215e+09\n",
      "25%     2010.000000      3.000000   87311.500000      3.500000  1.166212e+09\n",
      "50%     2016.000000     83.000000   89896.000000      3.500000  1.172572e+09\n",
      "75%     2019.000000    101.000000   92627.450000      3.600000  1.178883e+09\n",
      "max     2021.000000    601.000000  106359.300000      3.700000  1.212128e+09\n"
     ]
    }
   ],
   "source": [
    "# Revisamos los tipos de datos del dataset\n",
    "print ('Tipos de datos:')\n",
    "print(df.dtypes)\n",
    "print('-----------------------------------------------------------------------------')\n",
    "\n",
    "# Verificamos si hay valores faltantes\n",
    "print('Cantidad de valores faltantes:')\n",
    "print(df.isnull().sum())\n",
    "print('-----------------------------------------------------------------------------')\n",
    "\n",
    "# Verificamos si hay valores duplicados\n",
    "print('Cantidad de valores duplicados:')\n",
    "print(df.duplicated().sum())\n",
    "print('-----------------------------------------------------------------------------')\n",
    "\n",
    "# Realizamos un resumen estadístico del dataset\n",
    "print('Resumen estadistico:')\n",
    "print(df.describe())"
   ]
  },
  {
   "cell_type": "code",
   "execution_count": 4,
   "metadata": {},
   "outputs": [],
   "source": [
    "# Importamos librerias para vizualizar los datos\n",
    "import seaborn as sns\n",
    "import matplotlib.pyplot as plt"
   ]
  },
  {
   "cell_type": "code",
   "execution_count": 5,
   "metadata": {},
   "outputs": [
    {
     "data": {
      "image/png": "[encoded data removed]",
      "text/plain": [
       "<Figure size 640x480 with 1 Axes>"
      ]
     },
     "metadata": {},
     "output_type": "display_data"
    },
    {
     "data": {
      "image/png": "[encoded data removed]",
      "text/plain": [
       "<Figure size 640x480 with 1 Axes>"
      ]
     },
     "metadata": {},
     "output_type": "display_data"
    },
    {
     "data": {
      "image/png": "[encoded data removed]",
      "text/plain": [
       "<Figure size 640x480 with 1 Axes>"
      ]
     },
     "metadata": {},
     "output_type": "display_data"
    },
    {
     "data": {
      "image/png": "[encoded data removed]",
      "text/plain": [
       "<Figure size 640x480 with 2 Axes>"
      ]
     },
     "metadata": {},
     "output_type": "display_data"
    }
   ],
   "source": [
    "# Histogramas de las variables relevantes\n",
    "sns.histplot(data=df, x=\"scored\")\n",
    "plt.title('Histograma Scored')\n",
    "plt.ylabel('Numero de Contenidos')\n",
    "plt.show()\n",
    "\n",
    "# Boxplot de las variables relevantes\n",
    "sns.boxplot(data=df, x=\"scored\")\n",
    "plt.title('Boxplot Scored')\n",
    "plt.show()\n",
    "\n",
    "# Gráfico de barras de la plataforma de streaming\n",
    "sns.countplot(data=df, x=\"plataforma\")\n",
    "plt.title('Plataformas de Streaming')\n",
    "plt.ylabel('Numero de Contenidos')\n",
    "plt.show()\n",
    "\n",
    "# Heatmap de las correlaciones entre variables numéricas\n",
    "plt.title('Tabla de correlacion')\n",
    "sns.heatmap(df[[\"scored\", \"release_year\", \"duration_int\"]].corr(), annot=True, cmap=\"coolwarm\")\n",
    "plt.show()"
   ]
  },
  {
   "attachments": {},
   "cell_type": "markdown",
   "metadata": {},
   "source": [
    "### _Transformaciones_"
   ]
  },
  {
   "cell_type": "code",
   "execution_count": 6,
   "metadata": {},
   "outputs": [],
   "source": [
    "# Rellenamos los datos nulos de la columna description con 'sin dato'\n",
    "df['description'].fillna('sin dato', inplace=True)"
   ]
  },
  {
   "attachments": {},
   "cell_type": "markdown",
   "metadata": {},
   "source": [
    "### _Modelo De Recomendación_"
   ]
  },
  {
   "cell_type": "code",
   "execution_count": 7,
   "metadata": {},
   "outputs": [],
   "source": [
    "# Clasificamos los datos con los que vamos a trabajar\n",
    "datos = ['title', 'listed_in', 'description']\n",
    "filtro = df[datos][:5000]"
   ]
  },
  {
   "cell_type": "code",
   "execution_count": 8,
   "metadata": {},
   "outputs": [],
   "source": [
    "# Exportamos estos datos, ya que estos son los que nos sirven para hacer recomendaciones, esto porque\n",
    "# no podemos utilizar todos los datos por falta de recursos\n",
    "filtro.to_csv('datos_para_probarML', encoding='utf-8', index=False)"
   ]
  },
  {
   "cell_type": "code",
   "execution_count": 9,
   "metadata": {},
   "outputs": [],
   "source": [
    "# Crearemos una funcion para eliminar los espacios que puedan haber en nuestros datos\n",
    "def limpiar_data(x):\n",
    "    return (x.replace(\" \", \"\"))"
   ]
  },
  {
   "cell_type": "code",
   "execution_count": 10,
   "metadata": {},
   "outputs": [
    {
     "data": {
      "text/html": [
       "<div>\n",
       "<style scoped>\n",
       "    .dataframe tbody tr th:only-of-type {\n",
       "        vertical-align: middle;\n",
       "    }\n",
       "\n",
       "    .dataframe tbody tr th {\n",
       "        vertical-align: top;\n",
       "    }\n",
       "\n",
       "    .dataframe thead th {\n",
       "        text-align: right;\n",
       "    }\n",
       "</style>\n",
       "<table border=\"1\" class=\"dataframe\">\n",
       "  <thead>\n",
       "    <tr style=\"text-align: right;\">\n",
       "      <th></th>\n",
       "      <th>title</th>\n",
       "      <th>listed_in</th>\n",
       "      <th>description</th>\n",
       "    </tr>\n",
       "  </thead>\n",
       "  <tbody>\n",
       "    <tr>\n",
       "      <th>0</th>\n",
       "      <td>thegrandseduction</td>\n",
       "      <td>comedy,drama</td>\n",
       "      <td>asmallfishingvillagemustprocurealocaldoctortos...</td>\n",
       "    </tr>\n",
       "    <tr>\n",
       "      <th>1</th>\n",
       "      <td>takecaregoodnight</td>\n",
       "      <td>drama,international</td>\n",
       "      <td>ametrofamilydecidestofightacybercriminalthreat...</td>\n",
       "    </tr>\n",
       "    <tr>\n",
       "      <th>2</th>\n",
       "      <td>secretsofdeception</td>\n",
       "      <td>action,drama,suspense</td>\n",
       "      <td>afteramandiscovershiswifeischeatingonhimwithan...</td>\n",
       "    </tr>\n",
       "    <tr>\n",
       "      <th>3</th>\n",
       "      <td>pink:stayingtrue</td>\n",
       "      <td>documentary</td>\n",
       "      <td>pinkbreaksthemoldonceagain,bringinghercareerto...</td>\n",
       "    </tr>\n",
       "    <tr>\n",
       "      <th>4</th>\n",
       "      <td>monstermaker</td>\n",
       "      <td>drama,fantasy</td>\n",
       "      <td>teenagemattbantingwantstoworkwithafamousbutecc...</td>\n",
       "    </tr>\n",
       "  </tbody>\n",
       "</table>\n",
       "</div>"
      ],
      "text/plain": [
       "                title              listed_in   \n",
       "0   thegrandseduction           comedy,drama  \\\n",
       "1   takecaregoodnight    drama,international   \n",
       "2  secretsofdeception  action,drama,suspense   \n",
       "3    pink:stayingtrue            documentary   \n",
       "4        monstermaker          drama,fantasy   \n",
       "\n",
       "                                         description  \n",
       "0  asmallfishingvillagemustprocurealocaldoctortos...  \n",
       "1  ametrofamilydecidestofightacybercriminalthreat...  \n",
       "2  afteramandiscovershiswifeischeatingonhimwithan...  \n",
       "3  pinkbreaksthemoldonceagain,bringinghercareerto...  \n",
       "4  teenagemattbantingwantstoworkwithafamousbutecc...  "
      ]
     },
     "execution_count": 10,
     "metadata": {},
     "output_type": "execute_result"
    }
   ],
   "source": [
    "# Aplicamos la funcion a nuestros datos\n",
    "for i in datos:\n",
    "    filtro[i] = filtro[i].apply(limpiar_data)\n",
    "\n",
    "filtro.head()"
   ]
  },
  {
   "cell_type": "code",
   "execution_count": 11,
   "metadata": {},
   "outputs": [],
   "source": [
    "# Creamos una cadena para contener los metados que alimentaran a nuestro a vector\n",
    "def cadena(x):\n",
    "    return x['title'] + ' ' + x['listed_in'] + ' ' + x['description'] \n",
    "\n",
    "filtro['data'] = filtro.apply(cadena, axis=1)"
   ]
  },
  {
   "cell_type": "code",
   "execution_count": 12,
   "metadata": {},
   "outputs": [],
   "source": [
    "# Importamos CountVectorizer de sklearn y luego crear nuestra matrix\n",
    "from sklearn.feature_extraction.text import CountVectorizer\n",
    "\n",
    "conteo = CountVectorizer(stop_words='english')\n",
    "conteo_matrix = conteo.fit_transform(filtro['data'])"
   ]
  },
  {
   "cell_type": "code",
   "execution_count": 13,
   "metadata": {},
   "outputs": [],
   "source": [
    "# Ahora calculamos la matriz de similitud de coseno basada en la cuenta_matrix\n",
    "from sklearn.metrics.pairwise import cosine_similarity\n",
    "\n",
    "cos_sim = cosine_similarity(conteo_matrix, conteo_matrix)"
   ]
  },
  {
   "cell_type": "code",
   "execution_count": 14,
   "metadata": {},
   "outputs": [],
   "source": [
    "# Aqui reconstruimos el dataset original para obtener los indices\n",
    "filtro = filtro.reset_index()\n",
    "indices = pd.Series(filtro.index, index=filtro['title'])"
   ]
  },
  {
   "cell_type": "code",
   "execution_count": 15,
   "metadata": {},
   "outputs": [],
   "source": [
    "# Creamos nuestra funcion para recomendar, la cual esta integrada en la API\n",
    "def get_recomendacion (title):\n",
    "    title = title.replace(' ', '').lower()\n",
    "    idx = indices[title]\n",
    "\n",
    "    # Obtenemos las puntuaciones de similitud de peliculas con la pelicula ingresada\n",
    "    sim_score = list(enumerate(cos_sim[idx]))\n",
    "\n",
    "    # Ordenamos las peliculas segun la puntuacion de similitud\n",
    "    sim_score = sorted(sim_score, key=lambda x: x[1], reverse=True)\n",
    "\n",
    "    # Obtenemos las puntuaciones de las 5 peliculas mas similares \n",
    "    sim_score = sim_score[1:6]\n",
    "\n",
    "    # Obtenemos los indices de peliculas\n",
    "    pelicula_indice = [i[0] for i in sim_score]\n",
    "\n",
    "    # Obtenemos el nombre de las peliculas\n",
    "    respuesta = df['title'].iloc[pelicula_indice]\n",
    "    respuesta = [i for i in respuesta]\n",
    "    return respuesta"
   ]
  },
  {
   "cell_type": "code",
   "execution_count": 16,
   "metadata": {},
   "outputs": [
    {
     "data": {
      "text/plain": [
       "['waiting on mary',\n",
       " 'series_project_un_test_uhd',\n",
       " 'digging to china',\n",
       " 'la cucaracha',\n",
       " 'the intervention']"
      ]
     },
     "execution_count": 16,
     "metadata": {},
     "output_type": "execute_result"
    }
   ],
   "source": [
    "# Pedimos una recomendacion \n",
    "get_recomendacion('the grand seduction')"
   ]
  }
 ],
 "metadata": {
  "kernelspec": {
   "display_name": "Python 3",
   "language": "python",
   "name": "python3"
  },
  "language_info": {
   "codemirror_mode": {
    "name": "ipython",
    "version": 3
   },
   "file_extension": ".py",
   "mimetype": "text/x-python",
   "name": "python",
   "nbconvert_exporter": "python",
   "pygments_lexer": "ipython3",
   "version": "3.11.0"
  },
  "orig_nbformat": 4
 },
 "nbformat": 4,
 "nbformat_minor": 2
}
